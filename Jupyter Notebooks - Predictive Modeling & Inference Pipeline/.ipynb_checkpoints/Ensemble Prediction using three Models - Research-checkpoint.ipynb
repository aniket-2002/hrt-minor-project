{
 "cells": [
  {
   "cell_type": "markdown",
   "metadata": {},
   "source": [
    "## Ensemble Technique for Prediction of Heart Disease"
   ]
  },
  {
   "cell_type": "markdown",
   "metadata": {},
   "source": [
    "In last notebook, I did extensive feature selection and ran Machine learning models on **4 different set of features**. After lot of Hyperparameter tuning and cross validation, I got **3 good models with f1 score of 89% and test accuracy of around 88.5%**\n",
    "\n",
    "- In this Notebook, I will be research and create an **Ensemble Max Voting of 3 best models KNN, Logistic and Random Forest** models saved with the best hyperparameters. \n",
    "\n",
    "\n",
    "- The input data will need to be **converted to dummy variables** for new data and **reordered to keep it in same order** as it was during training. Then I also need to **scale features using MinMax Scaling** before predicting the output using the 3 models. \n",
    "\n",
    "\n",
    "- **Once I have the output from the 3 models, I can use any ensembling technique to get the final prediction. I will be using a Max voting appraoch here**. "
   ]
  },
  {
   "cell_type": "code",
   "execution_count": 1,
   "metadata": {},
   "outputs": [],
   "source": [
    "import streamlit as st\n",
    "import numpy as np\n",
    "import pandas as pd\n",
    "import pickle\n",
    "import time\n",
    "import statistics\n",
    "import pickle\n",
    "import os\n",
    "from sklearn.externals import joblib \n",
    "os.chdir(r'N:\\GITHUB\\Data-Science-Machine-Learning\\Heart Disease Classification Web App\\Streamlit Webapp')"
   ]
  },
  {
   "cell_type": "markdown",
   "metadata": {},
   "source": [
    "#### Load the 3 Trained Models & Min Max Scaler"
   ]
  },
  {
   "cell_type": "code",
   "execution_count": 25,
   "metadata": {},
   "outputs": [],
   "source": [
    "knn = joblib.load('./Models/KNNClassifier.pkl')  \n",
    "logit = joblib.load('./Models/LogisticRegression.pkl')  \n",
    "rf = joblib.load('./Models/RandomForestclf.pkl')  "
   ]
  },
  {
   "cell_type": "code",
   "execution_count": 3,
   "metadata": {},
   "outputs": [],
   "source": [
    "scalerfile = './Models/scaler.sav'\n",
    "scaler = pickle.load(open(scalerfile, 'rb'))\n",
    "#test_scaled_set = scaler.transform(test_set)"
   ]
  },
  {
   "cell_type": "markdown",
   "metadata": {},
   "source": [
    "#### Feature sets for models"
   ]
  },
  {
   "cell_type": "code",
   "execution_count": 4,
   "metadata": {},
   "outputs": [],
   "source": [
    "original_features = ['age', 'sex', 'resting_BP', 'serum_cholestoral', 'fasting_blood_sugar',\n",
    "       'max_heart_rate', 'exercise_induced_angina', 'oldpeak',\n",
    "       'chest_pain_type_1', 'chest_pain_type_2', 'chest_pain_type_3',\n",
    "       'resting_ECG_1', 'resting_ECG_2', 'slope_1', 'slope_2',\n",
    "       'major_vessels_count_1', 'major_vessels_count_2',\n",
    "       'major_vessels_count_3', 'major_vessels_count_4', 'thalium_stress_1',\n",
    "       'thalium_stress_2', 'thalium_stress_3']\n",
    "\n",
    "\n",
    "selected_features = ['sex', 'max_heart_rate', 'exercise_induced_angina', 'oldpeak',\n",
    "       'chest_pain_type_1', 'chest_pain_type_2', 'chest_pain_type_3',\n",
    "       'slope_2', 'major_vessels_count_1', 'major_vessels_count_2',\n",
    "       'major_vessels_count_3', 'thalium_stress_3']"
   ]
  },
  {
   "cell_type": "markdown",
   "metadata": {},
   "source": [
    "#### Original columns and categorical Columns from training data "
   ]
  },
  {
   "cell_type": "code",
   "execution_count": 5,
   "metadata": {},
   "outputs": [],
   "source": [
    "original_cols = ['age', 'sex', 'chest_pain_type', 'resting_BP', 'serum_cholestoral',\n",
    "       'fasting_blood_sugar', 'resting_ECG', 'max_heart_rate',\n",
    "       'exercise_induced_angina', 'oldpeak', 'slope', 'major_vessels_count',\n",
    "       'thalium_stress']\n",
    "\n",
    "categorical_cols = [\n",
    " 'chest_pain_type',\n",
    " 'resting_ECG',\n",
    " 'slope',\n",
    " 'major_vessels_count',\n",
    " 'thalium_stress']\n"
   ]
  },
  {
   "cell_type": "markdown",
   "metadata": {},
   "source": [
    "#### Lookup for encoding values for labels of different categorical columns "
   ]
  },
  {
   "cell_type": "code",
   "execution_count": 6,
   "metadata": {},
   "outputs": [],
   "source": [
    "cat_lookup = {'Male':1, 'Female':0, 'Typical Angina':0, 'Atypical Angina':1, 'Non-anginal pain':2, 'Asymptomatic':3, \n",
    "             'fasting blood sugar > 120 mg/dl':1, 'fasting blood sugar < 120 mg/dl':0, \n",
    "              'Nothing to Note':0, 'ST-T Wave abnormality':1, 'Left Ventricular Hypertrophy':2, \n",
    "             'Yes':1, 'No':0, 'Unslopping: Better heart rate with exercise':0, 'Flatsloping: Minimal change':1,\n",
    "              'Downslopings: Signs of unhealthy heart':2, 'Normal:1':0, 'Normal:3':1, 'Fixed defect:6':2, 'Reversable defect:7':3}"
   ]
  },
  {
   "cell_type": "markdown",
   "metadata": {},
   "source": [
    "#### Input Data for testing of Pipeline "
   ]
  },
  {
   "cell_type": "code",
   "execution_count": 7,
   "metadata": {},
   "outputs": [
    {
     "data": {
      "text/html": [
       "<div>\n",
       "<style scoped>\n",
       "    .dataframe tbody tr th:only-of-type {\n",
       "        vertical-align: middle;\n",
       "    }\n",
       "\n",
       "    .dataframe tbody tr th {\n",
       "        vertical-align: top;\n",
       "    }\n",
       "\n",
       "    .dataframe thead th {\n",
       "        text-align: right;\n",
       "    }\n",
       "</style>\n",
       "<table border=\"1\" class=\"dataframe\">\n",
       "  <thead>\n",
       "    <tr style=\"text-align: right;\">\n",
       "      <th></th>\n",
       "      <th>age</th>\n",
       "      <th>sex</th>\n",
       "      <th>chest_pain_type</th>\n",
       "      <th>resting_BP</th>\n",
       "      <th>serum_cholestoral</th>\n",
       "      <th>fasting_blood_sugar</th>\n",
       "      <th>resting_ECG</th>\n",
       "      <th>max_heart_rate</th>\n",
       "      <th>exercise_induced_angina</th>\n",
       "      <th>oldpeak</th>\n",
       "      <th>slope</th>\n",
       "      <th>major_vessels_count</th>\n",
       "      <th>thalium_stress</th>\n",
       "    </tr>\n",
       "  </thead>\n",
       "  <tbody>\n",
       "    <tr>\n",
       "      <th>0</th>\n",
       "      <td>45</td>\n",
       "      <td>Male</td>\n",
       "      <td>Typical Angina</td>\n",
       "      <td>150</td>\n",
       "      <td>250</td>\n",
       "      <td>fasting blood sugar &gt; 120 mg/dl</td>\n",
       "      <td>ST-T Wave abnormality</td>\n",
       "      <td>170</td>\n",
       "      <td>Yes</td>\n",
       "      <td>3.4</td>\n",
       "      <td>Flatsloping: Minimal change</td>\n",
       "      <td>1</td>\n",
       "      <td>Fixed defect:6</td>\n",
       "    </tr>\n",
       "  </tbody>\n",
       "</table>\n",
       "</div>"
      ],
      "text/plain": [
       "   age   sex chest_pain_type  resting_BP  serum_cholestoral  \\\n",
       "0   45  Male  Typical Angina         150                250   \n",
       "\n",
       "               fasting_blood_sugar            resting_ECG  max_heart_rate  \\\n",
       "0  fasting blood sugar > 120 mg/dl  ST-T Wave abnormality             170   \n",
       "\n",
       "  exercise_induced_angina  oldpeak                        slope  \\\n",
       "0                     Yes      3.4  Flatsloping: Minimal change   \n",
       "\n",
       "   major_vessels_count  thalium_stress  \n",
       "0                    1  Fixed defect:6  "
      ]
     },
     "execution_count": 7,
     "metadata": {},
     "output_type": "execute_result"
    }
   ],
   "source": [
    "#This dataframe will contain the data input from the user for prediction \n",
    "\n",
    "df_test = pd.DataFrame([[45, 'Male', 'Typical Angina', 150, 250, 'fasting blood sugar > 120 mg/dl', \n",
    "                        'ST-T Wave abnormality', 170, 'Yes', 3.4, 'Flatsloping: Minimal change', 1, 'Fixed defect:6']], \n",
    "                       columns=['age', 'sex', 'chest_pain_type', 'resting_BP', 'serum_cholestoral',\n",
    "       'fasting_blood_sugar', 'resting_ECG', 'max_heart_rate',\n",
    "       'exercise_induced_angina', 'oldpeak', 'slope', 'major_vessels_count',\n",
    "       'thalium_stress'])\n",
    "df_test"
   ]
  },
  {
   "cell_type": "markdown",
   "metadata": {},
   "source": [
    "#### Converting the string values to encoded values for each category"
   ]
  },
  {
   "cell_type": "code",
   "execution_count": 8,
   "metadata": {},
   "outputs": [],
   "source": [
    "lookup_cols = ['sex', 'chest_pain_type','fasting_blood_sugar', 'resting_ECG',\n",
    "               'exercise_induced_angina', 'slope','thalium_stress']\n",
    "\n",
    "for col in lookup_cols:\n",
    "    df_test[col] = df_test[col].apply(lambda x: cat_lookup[x])"
   ]
  },
  {
   "cell_type": "code",
   "execution_count": 9,
   "metadata": {},
   "outputs": [
    {
     "data": {
      "text/html": [
       "<div>\n",
       "<style scoped>\n",
       "    .dataframe tbody tr th:only-of-type {\n",
       "        vertical-align: middle;\n",
       "    }\n",
       "\n",
       "    .dataframe tbody tr th {\n",
       "        vertical-align: top;\n",
       "    }\n",
       "\n",
       "    .dataframe thead th {\n",
       "        text-align: right;\n",
       "    }\n",
       "</style>\n",
       "<table border=\"1\" class=\"dataframe\">\n",
       "  <thead>\n",
       "    <tr style=\"text-align: right;\">\n",
       "      <th></th>\n",
       "      <th>age</th>\n",
       "      <th>sex</th>\n",
       "      <th>chest_pain_type</th>\n",
       "      <th>resting_BP</th>\n",
       "      <th>serum_cholestoral</th>\n",
       "      <th>fasting_blood_sugar</th>\n",
       "      <th>resting_ECG</th>\n",
       "      <th>max_heart_rate</th>\n",
       "      <th>exercise_induced_angina</th>\n",
       "      <th>oldpeak</th>\n",
       "      <th>slope</th>\n",
       "      <th>major_vessels_count</th>\n",
       "      <th>thalium_stress</th>\n",
       "    </tr>\n",
       "  </thead>\n",
       "  <tbody>\n",
       "    <tr>\n",
       "      <th>0</th>\n",
       "      <td>45</td>\n",
       "      <td>1</td>\n",
       "      <td>0</td>\n",
       "      <td>150</td>\n",
       "      <td>250</td>\n",
       "      <td>1</td>\n",
       "      <td>1</td>\n",
       "      <td>170</td>\n",
       "      <td>1</td>\n",
       "      <td>3.4</td>\n",
       "      <td>1</td>\n",
       "      <td>1</td>\n",
       "      <td>2</td>\n",
       "    </tr>\n",
       "  </tbody>\n",
       "</table>\n",
       "</div>"
      ],
      "text/plain": [
       "   age  sex  chest_pain_type  resting_BP  serum_cholestoral  \\\n",
       "0   45    1                0         150                250   \n",
       "\n",
       "   fasting_blood_sugar  resting_ECG  max_heart_rate  exercise_induced_angina  \\\n",
       "0                    1            1             170                        1   \n",
       "\n",
       "   oldpeak  slope  major_vessels_count  thalium_stress  \n",
       "0      3.4      1                    1               2  "
      ]
     },
     "execution_count": 9,
     "metadata": {},
     "output_type": "execute_result"
    }
   ],
   "source": [
    "df_test"
   ]
  },
  {
   "cell_type": "markdown",
   "metadata": {},
   "source": [
    "#### Creating dummy variable for Categorical features so that it matches the original training dataframe format"
   ]
  },
  {
   "cell_type": "code",
   "execution_count": 10,
   "metadata": {},
   "outputs": [
    {
     "data": {
      "text/plain": [
       "['chest_pain_type_1',\n",
       " 'chest_pain_type_2',\n",
       " 'chest_pain_type_3',\n",
       " 'resting_ECG_1',\n",
       " 'resting_ECG_2',\n",
       " 'slope_1',\n",
       " 'slope_2',\n",
       " 'major_vessels_count_1',\n",
       " 'major_vessels_count_2',\n",
       " 'major_vessels_count_3',\n",
       " 'major_vessels_count_4',\n",
       " 'thalium_stress_1',\n",
       " 'thalium_stress_2',\n",
       " 'thalium_stress_3']"
      ]
     },
     "execution_count": 10,
     "metadata": {},
     "output_type": "execute_result"
    }
   ],
   "source": [
    "cat_dummies = [col for col in original_features\n",
    "              if '_' in col and '_'.join(col.split('_')[:-1]) in categorical_cols]\n",
    "cat_dummies"
   ]
  },
  {
   "cell_type": "code",
   "execution_count": 11,
   "metadata": {},
   "outputs": [],
   "source": [
    "df_heart = pd.get_dummies(df_test, prefix_sep='_', columns=categorical_cols)"
   ]
  },
  {
   "cell_type": "code",
   "execution_count": 12,
   "metadata": {},
   "outputs": [
    {
     "data": {
      "text/html": [
       "<div>\n",
       "<style scoped>\n",
       "    .dataframe tbody tr th:only-of-type {\n",
       "        vertical-align: middle;\n",
       "    }\n",
       "\n",
       "    .dataframe tbody tr th {\n",
       "        vertical-align: top;\n",
       "    }\n",
       "\n",
       "    .dataframe thead th {\n",
       "        text-align: right;\n",
       "    }\n",
       "</style>\n",
       "<table border=\"1\" class=\"dataframe\">\n",
       "  <thead>\n",
       "    <tr style=\"text-align: right;\">\n",
       "      <th></th>\n",
       "      <th>age</th>\n",
       "      <th>sex</th>\n",
       "      <th>resting_BP</th>\n",
       "      <th>serum_cholestoral</th>\n",
       "      <th>fasting_blood_sugar</th>\n",
       "      <th>max_heart_rate</th>\n",
       "      <th>exercise_induced_angina</th>\n",
       "      <th>oldpeak</th>\n",
       "      <th>chest_pain_type_0</th>\n",
       "      <th>resting_ECG_1</th>\n",
       "      <th>slope_1</th>\n",
       "      <th>major_vessels_count_1</th>\n",
       "      <th>thalium_stress_2</th>\n",
       "    </tr>\n",
       "  </thead>\n",
       "  <tbody>\n",
       "    <tr>\n",
       "      <th>0</th>\n",
       "      <td>45</td>\n",
       "      <td>1</td>\n",
       "      <td>150</td>\n",
       "      <td>250</td>\n",
       "      <td>1</td>\n",
       "      <td>170</td>\n",
       "      <td>1</td>\n",
       "      <td>3.4</td>\n",
       "      <td>1</td>\n",
       "      <td>1</td>\n",
       "      <td>1</td>\n",
       "      <td>1</td>\n",
       "      <td>1</td>\n",
       "    </tr>\n",
       "  </tbody>\n",
       "</table>\n",
       "</div>"
      ],
      "text/plain": [
       "   age  sex  resting_BP  serum_cholestoral  fasting_blood_sugar  \\\n",
       "0   45    1         150                250                    1   \n",
       "\n",
       "   max_heart_rate  exercise_induced_angina  oldpeak  chest_pain_type_0  \\\n",
       "0             170                        1      3.4                  1   \n",
       "\n",
       "   resting_ECG_1  slope_1  major_vessels_count_1  thalium_stress_2  \n",
       "0              1        1                      1                 1  "
      ]
     },
     "execution_count": 12,
     "metadata": {},
     "output_type": "execute_result"
    }
   ],
   "source": [
    "df_heart"
   ]
  },
  {
   "cell_type": "code",
   "execution_count": 13,
   "metadata": {},
   "outputs": [
    {
     "name": "stdout",
     "output_type": "stream",
     "text": [
      "Removing additional feature chest_pain_type_0 not used in training\n"
     ]
    }
   ],
   "source": [
    "## Remove additional columns\n",
    "for col in df_heart.columns:\n",
    "    if(('_' in col) and ('_'.join(col.split('_')[:-1]) in categorical_cols) and col not in cat_dummies):\n",
    "        print('Removing additional feature {} not used in training'.format(col))\n",
    "        df_heart.drop(columns=[col], axis=1, inplace=True)"
   ]
  },
  {
   "cell_type": "markdown",
   "metadata": {},
   "source": [
    "Now we need to add the missing columns. We can set all missing columns to a vector of 0s since those values did not appear in the test data"
   ]
  },
  {
   "cell_type": "code",
   "execution_count": 14,
   "metadata": {},
   "outputs": [
    {
     "name": "stdout",
     "output_type": "stream",
     "text": [
      "Adding missing feature chest_pain_type_1\n",
      "Adding missing feature chest_pain_type_2\n",
      "Adding missing feature chest_pain_type_3\n",
      "Adding missing feature resting_ECG_2\n",
      "Adding missing feature slope_2\n",
      "Adding missing feature major_vessels_count_2\n",
      "Adding missing feature major_vessels_count_3\n",
      "Adding missing feature major_vessels_count_4\n",
      "Adding missing feature thalium_stress_1\n",
      "Adding missing feature thalium_stress_3\n"
     ]
    }
   ],
   "source": [
    "for col in cat_dummies:\n",
    "    if col not in df_heart.columns:\n",
    "        print('Adding missing feature {}'.format(col))\n",
    "        df_heart[col] = 0"
   ]
  },
  {
   "cell_type": "code",
   "execution_count": 15,
   "metadata": {},
   "outputs": [
    {
     "data": {
      "text/html": [
       "<div>\n",
       "<style scoped>\n",
       "    .dataframe tbody tr th:only-of-type {\n",
       "        vertical-align: middle;\n",
       "    }\n",
       "\n",
       "    .dataframe tbody tr th {\n",
       "        vertical-align: top;\n",
       "    }\n",
       "\n",
       "    .dataframe thead th {\n",
       "        text-align: right;\n",
       "    }\n",
       "</style>\n",
       "<table border=\"1\" class=\"dataframe\">\n",
       "  <thead>\n",
       "    <tr style=\"text-align: right;\">\n",
       "      <th></th>\n",
       "      <th>age</th>\n",
       "      <th>sex</th>\n",
       "      <th>resting_BP</th>\n",
       "      <th>serum_cholestoral</th>\n",
       "      <th>fasting_blood_sugar</th>\n",
       "      <th>max_heart_rate</th>\n",
       "      <th>exercise_induced_angina</th>\n",
       "      <th>oldpeak</th>\n",
       "      <th>resting_ECG_1</th>\n",
       "      <th>slope_1</th>\n",
       "      <th>...</th>\n",
       "      <th>chest_pain_type_1</th>\n",
       "      <th>chest_pain_type_2</th>\n",
       "      <th>chest_pain_type_3</th>\n",
       "      <th>resting_ECG_2</th>\n",
       "      <th>slope_2</th>\n",
       "      <th>major_vessels_count_2</th>\n",
       "      <th>major_vessels_count_3</th>\n",
       "      <th>major_vessels_count_4</th>\n",
       "      <th>thalium_stress_1</th>\n",
       "      <th>thalium_stress_3</th>\n",
       "    </tr>\n",
       "  </thead>\n",
       "  <tbody>\n",
       "    <tr>\n",
       "      <th>0</th>\n",
       "      <td>45</td>\n",
       "      <td>1</td>\n",
       "      <td>150</td>\n",
       "      <td>250</td>\n",
       "      <td>1</td>\n",
       "      <td>170</td>\n",
       "      <td>1</td>\n",
       "      <td>3.4</td>\n",
       "      <td>1</td>\n",
       "      <td>1</td>\n",
       "      <td>...</td>\n",
       "      <td>0</td>\n",
       "      <td>0</td>\n",
       "      <td>0</td>\n",
       "      <td>0</td>\n",
       "      <td>0</td>\n",
       "      <td>0</td>\n",
       "      <td>0</td>\n",
       "      <td>0</td>\n",
       "      <td>0</td>\n",
       "      <td>0</td>\n",
       "    </tr>\n",
       "  </tbody>\n",
       "</table>\n",
       "<p>1 rows × 22 columns</p>\n",
       "</div>"
      ],
      "text/plain": [
       "   age  sex  resting_BP  serum_cholestoral  fasting_blood_sugar  \\\n",
       "0   45    1         150                250                    1   \n",
       "\n",
       "   max_heart_rate  exercise_induced_angina  oldpeak  resting_ECG_1  slope_1  \\\n",
       "0             170                        1      3.4              1        1   \n",
       "\n",
       "   ...  chest_pain_type_1  chest_pain_type_2  chest_pain_type_3  \\\n",
       "0  ...                  0                  0                  0   \n",
       "\n",
       "   resting_ECG_2  slope_2  major_vessels_count_2  major_vessels_count_3  \\\n",
       "0              0        0                      0                      0   \n",
       "\n",
       "   major_vessels_count_4  thalium_stress_1  thalium_stress_3  \n",
       "0                      0                 0                 0  \n",
       "\n",
       "[1 rows x 22 columns]"
      ]
     },
     "execution_count": 15,
     "metadata": {},
     "output_type": "execute_result"
    }
   ],
   "source": [
    "df_heart"
   ]
  },
  {
   "cell_type": "markdown",
   "metadata": {},
   "source": [
    "### feature scaling using the Scaler fit on original data"
   ]
  },
  {
   "cell_type": "code",
   "execution_count": 16,
   "metadata": {},
   "outputs": [
    {
     "data": {
      "text/plain": [
       "array([[0.33333333, 1.        , 0.52830189, 0.28310502, 1.        ,\n",
       "        0.75572519, 1.        , 0.5483871 , 1.        , 1.        ,\n",
       "        1.        , 1.        , 0.        , 0.        , 0.        ,\n",
       "        0.        , 0.        , 0.        , 0.        , 0.        ,\n",
       "        0.        , 0.        ]])"
      ]
     },
     "execution_count": 16,
     "metadata": {},
     "output_type": "execute_result"
    }
   ],
   "source": [
    "features_SS = scaler.transform(df_heart)\n",
    "features_SS"
   ]
  },
  {
   "cell_type": "code",
   "execution_count": 17,
   "metadata": {},
   "outputs": [
    {
     "data": {
      "text/html": [
       "<div>\n",
       "<style scoped>\n",
       "    .dataframe tbody tr th:only-of-type {\n",
       "        vertical-align: middle;\n",
       "    }\n",
       "\n",
       "    .dataframe tbody tr th {\n",
       "        vertical-align: top;\n",
       "    }\n",
       "\n",
       "    .dataframe thead th {\n",
       "        text-align: right;\n",
       "    }\n",
       "</style>\n",
       "<table border=\"1\" class=\"dataframe\">\n",
       "  <thead>\n",
       "    <tr style=\"text-align: right;\">\n",
       "      <th></th>\n",
       "      <th>age</th>\n",
       "      <th>sex</th>\n",
       "      <th>resting_BP</th>\n",
       "      <th>serum_cholestoral</th>\n",
       "      <th>fasting_blood_sugar</th>\n",
       "      <th>max_heart_rate</th>\n",
       "      <th>exercise_induced_angina</th>\n",
       "      <th>oldpeak</th>\n",
       "      <th>resting_ECG_1</th>\n",
       "      <th>slope_1</th>\n",
       "      <th>...</th>\n",
       "      <th>chest_pain_type_1</th>\n",
       "      <th>chest_pain_type_2</th>\n",
       "      <th>chest_pain_type_3</th>\n",
       "      <th>resting_ECG_2</th>\n",
       "      <th>slope_2</th>\n",
       "      <th>major_vessels_count_2</th>\n",
       "      <th>major_vessels_count_3</th>\n",
       "      <th>major_vessels_count_4</th>\n",
       "      <th>thalium_stress_1</th>\n",
       "      <th>thalium_stress_3</th>\n",
       "    </tr>\n",
       "  </thead>\n",
       "  <tbody>\n",
       "    <tr>\n",
       "      <th>0</th>\n",
       "      <td>0.333333</td>\n",
       "      <td>1.0</td>\n",
       "      <td>0.528302</td>\n",
       "      <td>0.283105</td>\n",
       "      <td>1.0</td>\n",
       "      <td>0.755725</td>\n",
       "      <td>1.0</td>\n",
       "      <td>0.548387</td>\n",
       "      <td>1.0</td>\n",
       "      <td>1.0</td>\n",
       "      <td>...</td>\n",
       "      <td>0.0</td>\n",
       "      <td>0.0</td>\n",
       "      <td>0.0</td>\n",
       "      <td>0.0</td>\n",
       "      <td>0.0</td>\n",
       "      <td>0.0</td>\n",
       "      <td>0.0</td>\n",
       "      <td>0.0</td>\n",
       "      <td>0.0</td>\n",
       "      <td>0.0</td>\n",
       "    </tr>\n",
       "  </tbody>\n",
       "</table>\n",
       "<p>1 rows × 22 columns</p>\n",
       "</div>"
      ],
      "text/plain": [
       "        age  sex  resting_BP  serum_cholestoral  fasting_blood_sugar  \\\n",
       "0  0.333333  1.0    0.528302           0.283105                  1.0   \n",
       "\n",
       "   max_heart_rate  exercise_induced_angina   oldpeak  resting_ECG_1  slope_1  \\\n",
       "0        0.755725                      1.0  0.548387            1.0      1.0   \n",
       "\n",
       "   ...  chest_pain_type_1  chest_pain_type_2  chest_pain_type_3  \\\n",
       "0  ...                0.0                0.0                0.0   \n",
       "\n",
       "   resting_ECG_2  slope_2  major_vessels_count_2  major_vessels_count_3  \\\n",
       "0            0.0      0.0                    0.0                    0.0   \n",
       "\n",
       "   major_vessels_count_4  thalium_stress_1  thalium_stress_3  \n",
       "0                    0.0               0.0               0.0  \n",
       "\n",
       "[1 rows x 22 columns]"
      ]
     },
     "execution_count": 17,
     "metadata": {},
     "output_type": "execute_result"
    }
   ],
   "source": [
    "features_SS = pd.DataFrame(features_SS, columns=df_heart.columns)\n",
    "features_SS"
   ]
  },
  {
   "cell_type": "markdown",
   "metadata": {},
   "source": [
    "#### Reorder the columns for Prediction using the 3 Models"
   ]
  },
  {
   "cell_type": "code",
   "execution_count": 18,
   "metadata": {},
   "outputs": [],
   "source": [
    "features_KNN = features_SS[original_features]\n",
    "features_Logit = features_SS[selected_features]\n",
    "features_rf = features_SS[original_features]"
   ]
  },
  {
   "cell_type": "code",
   "execution_count": 19,
   "metadata": {},
   "outputs": [
    {
     "data": {
      "text/plain": [
       "((1, 22), (1, 12), (1, 22))"
      ]
     },
     "execution_count": 19,
     "metadata": {},
     "output_type": "execute_result"
    }
   ],
   "source": [
    "features_KNN.shape, features_Logit.shape, features_rf.shape"
   ]
  },
  {
   "cell_type": "markdown",
   "metadata": {},
   "source": [
    "### Predictions & Ensemble using Max Voting"
   ]
  },
  {
   "cell_type": "markdown",
   "metadata": {},
   "source": [
    "Now I will use the 3 loaded models with their set of features extracted from the user's input to predict the target. Then I will use **Max Voting Ensemble technique to get a final prediction which will be the most voted output from the 3 models**"
   ]
  },
  {
   "cell_type": "code",
   "execution_count": 20,
   "metadata": {},
   "outputs": [],
   "source": [
    "pred_knn = knn.predict(features_KNN)\n",
    "pred_logit = logit.predict(features_Logit)\n",
    "pred_rf = rf.predict(features_rf)"
   ]
  },
  {
   "cell_type": "code",
   "execution_count": 21,
   "metadata": {},
   "outputs": [
    {
     "name": "stdout",
     "output_type": "stream",
     "text": [
      "KNN Predicted 0\n",
      "Logistic Predicted 0\n",
      "Random Forest Predicted 0\n"
     ]
    }
   ],
   "source": [
    "print('KNN Predicted {}'.format(int(pred_knn)))\n",
    "print('Logistic Predicted {}'.format(int(pred_logit)))\n",
    "print('Random Forest Predicted {}'.format(int(pred_rf)))"
   ]
  },
  {
   "cell_type": "code",
   "execution_count": 22,
   "metadata": {},
   "outputs": [
    {
     "data": {
      "text/plain": [
       "0"
      ]
     },
     "execution_count": 22,
     "metadata": {},
     "output_type": "execute_result"
    }
   ],
   "source": [
    "ensemble_pred = statistics.mode([int(pred_knn), int(pred_logit), int(pred_rf)])\n",
    "ensemble_pred"
   ]
  },
  {
   "cell_type": "code",
   "execution_count": 23,
   "metadata": {},
   "outputs": [],
   "source": [
    "if ensemble_pred == 0:\n",
    "    ensemble_diagnostic = 'does not have a Heart Disease'\n",
    "else:\n",
    "    ensemble_diagnostic = 'might have a Heart Disease. Please perform further tests.'"
   ]
  },
  {
   "cell_type": "code",
   "execution_count": 24,
   "metadata": {},
   "outputs": [
    {
     "data": {
      "text/plain": [
       "'does not have a Heart Disease'"
      ]
     },
     "execution_count": 24,
     "metadata": {},
     "output_type": "execute_result"
    }
   ],
   "source": [
    "ensemble_diagnostic"
   ]
  }
 ],
 "metadata": {
  "kernelspec": {
   "display_name": "Python 3 (ipykernel)",
   "language": "python",
   "name": "python3"
  },
  "language_info": {
   "codemirror_mode": {
    "name": "ipython",
    "version": 3
   },
   "file_extension": ".py",
   "mimetype": "text/x-python",
   "name": "python",
   "nbconvert_exporter": "python",
   "pygments_lexer": "ipython3",
   "version": "3.9.16"
  }
 },
 "nbformat": 4,
 "nbformat_minor": 2
}
